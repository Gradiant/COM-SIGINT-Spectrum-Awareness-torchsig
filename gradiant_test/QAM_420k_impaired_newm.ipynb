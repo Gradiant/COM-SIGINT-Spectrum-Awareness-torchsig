{
 "cells": [
  {
   "cell_type": "markdown",
   "id": "3853186c",
   "metadata": {
    "tags": []
   },
   "source": [
    "# Classification for QAM\n"
   ]
  },
  {
   "cell_type": "markdown",
   "id": "9147541a",
   "metadata": {},
   "source": [
    "This notebook uses PSK and QAM families dataset for training customized EffiecientNet models. the dataset consists of 130K samples for 13 classes to be classifed, so there are 10K samples for each class"
   ]
  },
  {
   "cell_type": "markdown",
   "id": "2fc87d51",
   "metadata": {},
   "source": [
    "### Import Libraries"
   ]
  },
  {
   "cell_type": "code",
   "execution_count": 1,
   "id": "60290c9d",
   "metadata": {},
   "outputs": [],
   "source": [
    "import torch\n",
    "from torch.utils.data import DataLoader\n",
    "from matplotlib import pyplot as plt\n",
    "from tqdm import tqdm\n",
    "import torch.nn.functional as F\n",
    "import torchsig.transforms as ST\n",
    "import numpy as np\n",
    "import torchsig\n",
    "import os\n",
    "import shutil\n",
    "from torch.utils.data import Subset\n",
    "from sigQAM import Sig53\n",
    "from torch.utils.data import DataLoader\n",
    "import torch.nn.functional as F\n",
    "from sklearn.metrics import classification_report, confusion_matrix\n",
    "import numpy as np\n",
    "from Train_evaluate import *\n",
    "from modeling import *\n",
    "from torch import nn, optim\n",
    "from torchsummary import summary\n"
   ]
  },
  {
   "cell_type": "markdown",
   "id": "aae11af4",
   "metadata": {},
   "source": [
    "----\n",
    "### Data reading"
   ]
  },
  {
   "cell_type": "code",
   "execution_count": 2,
   "id": "ed12a158",
   "metadata": {},
   "outputs": [],
   "source": [
    "selected_classes = [\n",
    "    \"16qam\",\n",
    "    \"32qam\",\n",
    "    \"32qam_cross\",\n",
    "    \"64qam\",\n",
    "    \"128qam_cross\",\n",
    "    \"256qam\",\n",
    "    \"512qam_cross\",\n",
    "    \"1024qam\"\n",
    "    ]"
   ]
  },
  {
   "cell_type": "code",
   "execution_count": 3,
   "id": "c0cef0f1-2d6c-4090-aedb-8fbc9f443ecd",
   "metadata": {},
   "outputs": [
    {
     "name": "stdout",
     "output_type": "stream",
     "text": [
      "Dataset length: 420000\n",
      "Data shape: (2, 4096)\n",
      "Label Index: 2\n",
      "Label Class: 32qam_cross\n"
     ]
    }
   ],
   "source": [
    "# Specify Sig53 Options\n",
    "root = \"../../../../data/torchsig/sigQAM/\"\n",
    "train = True\n",
    "impaired = True\n",
    "class_list = list(Sig53._idx_to_name_dict.values())\n",
    "transform = ST.Compose([\n",
    "    ST.RandomPhaseShift(phase_offset=(-1, 1)),\n",
    "    ST.Normalize(norm=np.inf),\n",
    "    ST.ComplexTo2D(),\n",
    "])\n",
    "target_transform = ST.DescToClassIndex(class_list=class_list)\n",
    "\n",
    "# Instantiate the Sig53 Clean Training Dataset\n",
    "sig53_clean_train = Sig53(\n",
    "    root=root,\n",
    "    train=train,\n",
    "    impaired=impaired,\n",
    "    transform=transform,\n",
    "    target_transform=target_transform,\n",
    "    use_signal_data=True,\n",
    ")\n",
    "\n",
    "# Instantiate the Sig53 Clean Validation Dataset\n",
    "\n",
    "train = False\n",
    "sig53_clean_val = Sig53(\n",
    "    root=root,\n",
    "    train=train,\n",
    "    impaired=impaired,\n",
    "    transform=transform,\n",
    "    target_transform=target_transform,\n",
    "    use_signal_data=True,\n",
    ")\n",
    "\n",
    "# Retrieve a sample and print out information to verify\n",
    "idx = np.random.randint(len(sig53_clean_train))\n",
    "data, label = sig53_clean_train[idx]\n",
    "print(\"Dataset length: {}\".format(len(sig53_clean_train)))\n",
    "print(\"Data shape: {}\".format(data.shape))\n",
    "print(\"Label Index: {}\".format(label))\n",
    "print(\"Label Class: {}\".format(Sig53.convert_idx_to_name(label)))"
   ]
  },
  {
   "cell_type": "code",
   "execution_count": 25,
   "id": "5b8aa1c7",
   "metadata": {},
   "outputs": [
    {
     "name": "stdout",
     "output_type": "stream",
     "text": [
      "Dataset length: 10000\n",
      "Data shape: (4096,)\n",
      "Label Index: 1\n",
      "Label Class: qpsk\n",
      "SNR: 2.991877052995722\n"
     ]
    }
   ],
   "source": [
    "sig53 = Sig53(\n",
    "    root=root,\n",
    "    train=False,\n",
    "    impaired=impaired,\n",
    "    transform=None,\n",
    "    target_transform=None,\n",
    ")\n",
    "\n",
    "# Retrieve a sample and print out information\n",
    "idx = np.random.randint(len(sig53))\n",
    "data, (label, snr) = sig53[idx]\n",
    "print(\"Dataset length: {}\".format(len(sig53)))\n",
    "print(\"Data shape: {}\".format(data.shape))\n",
    "print(\"Label Index: {}\".format(label))\n",
    "print(\"Label Class: {}\".format(Sig53.convert_idx_to_name(label)))\n",
    "print(\"SNR: {}\".format(snr))"
   ]
  },
  {
   "cell_type": "markdown",
   "id": "fdae5d69",
   "metadata": {},
   "source": [
    "----\n",
    "### Dataloaders"
   ]
  },
  {
   "cell_type": "code",
   "execution_count": 4,
   "id": "adf06854-b22f-4269-8661-e9cab52b39ba",
   "metadata": {},
   "outputs": [],
   "source": [
    "# Calculate the size of the validation set (10% of the training set)\n",
    "val_size = int(0.1 * len(sig53_clean_train))\n",
    "train_size = len(sig53_clean_train) - val_size\n",
    "\n",
    "# Split the training dataset into training and validation datasets\n",
    "train_dataset, val_dataset = torch.utils.data.random_split(sig53_clean_train, [train_size, val_size])\n",
    "\n",
    "# Create data loaders for training, validation, and testing\n",
    "train_dataloader = DataLoader(\n",
    "    dataset=train_dataset,\n",
    "    batch_size=64,\n",
    "    num_workers=8,\n",
    "    shuffle=True,\n",
    "    drop_last=True,\n",
    ")\n",
    "val_dataloader = DataLoader(\n",
    "    dataset=val_dataset,\n",
    "    batch_size=16,\n",
    "    num_workers=8,\n",
    "    shuffle=False,\n",
    "    drop_last=True,\n",
    ")\n",
    "test_dataloader = DataLoader(\n",
    "    dataset=sig53_clean_val,\n",
    "    batch_size=16,\n",
    "    num_workers=8,\n",
    "    shuffle=False,\n",
    "    drop_last=True,\n",
    ")"
   ]
  },
  {
   "cell_type": "code",
   "execution_count": 5,
   "id": "523b85a8",
   "metadata": {},
   "outputs": [],
   "source": [
    "inputs, _ = next(iter(train_dataloader))\n",
    "input_size = inputs.shape[1:]"
   ]
  },
  {
   "cell_type": "code",
   "execution_count": 6,
   "id": "6968a060",
   "metadata": {},
   "outputs": [],
   "source": [
    "device = torch.device('cuda' if torch.cuda.is_available() else 'cpu')\n",
    "\n",
    "# Initialize the model\n",
    "model = ResNet1D(Bottleneck1D, [4,5,5,4], num_classes=len(selected_classes), in_channels=2).to(device)\n",
    "\n",
    "# Check if CUDA is available and set the device accordingly\n",
    "device = torch.device('cuda' if torch.cuda.is_available() else 'cpu')\n",
    "model = model.to(device)\n"
   ]
  },
  {
   "cell_type": "code",
   "execution_count": 7,
   "id": "d9ceab80",
   "metadata": {},
   "outputs": [
    {
     "name": "stdout",
     "output_type": "stream",
     "text": [
      "----------------------------------------------------------------\n",
      "        Layer (type)               Output Shape         Param #\n",
      "================================================================\n",
      "            Conv1d-1             [-1, 32, 2048]             448\n",
      "       BatchNorm1d-2             [-1, 32, 2048]              64\n",
      "            Conv1d-3             [-1, 32, 2048]           1,024\n",
      "       BatchNorm1d-4             [-1, 32, 2048]              64\n",
      "            Conv1d-5             [-1, 32, 2048]              96\n",
      "            Conv1d-6             [-1, 32, 2048]           1,024\n",
      "DepthwiseSeparableConv1d-7             [-1, 32, 2048]               0\n",
      "       BatchNorm1d-8             [-1, 32, 2048]              64\n",
      "            Conv1d-9            [-1, 128, 2048]           4,096\n",
      "      BatchNorm1d-10            [-1, 128, 2048]             256\n",
      "AdaptiveAvgPool1d-11               [-1, 128, 1]               0\n",
      "           Linear-12                    [-1, 8]           1,024\n",
      "             ReLU-13                    [-1, 8]               0\n",
      "           Linear-14                  [-1, 128]           1,024\n",
      "          Sigmoid-15                  [-1, 128]               0\n",
      "          SEBlock-16            [-1, 128, 2048]               0\n",
      "           Conv1d-17            [-1, 128, 2048]           4,096\n",
      "      BatchNorm1d-18            [-1, 128, 2048]             256\n",
      "     Bottleneck1D-19            [-1, 128, 2048]               0\n",
      "           Conv1d-20             [-1, 32, 2048]           4,096\n",
      "      BatchNorm1d-21             [-1, 32, 2048]              64\n",
      "           Conv1d-22             [-1, 32, 2048]              96\n",
      "           Conv1d-23             [-1, 32, 2048]           1,024\n",
      "DepthwiseSeparableConv1d-24             [-1, 32, 2048]               0\n",
      "      BatchNorm1d-25             [-1, 32, 2048]              64\n",
      "           Conv1d-26            [-1, 128, 2048]           4,096\n",
      "      BatchNorm1d-27            [-1, 128, 2048]             256\n",
      "AdaptiveAvgPool1d-28               [-1, 128, 1]               0\n",
      "           Linear-29                    [-1, 8]           1,024\n",
      "             ReLU-30                    [-1, 8]               0\n",
      "           Linear-31                  [-1, 128]           1,024\n",
      "          Sigmoid-32                  [-1, 128]               0\n",
      "          SEBlock-33            [-1, 128, 2048]               0\n",
      "     Bottleneck1D-34            [-1, 128, 2048]               0\n",
      "           Conv1d-35             [-1, 32, 2048]           4,096\n",
      "      BatchNorm1d-36             [-1, 32, 2048]              64\n",
      "           Conv1d-37             [-1, 32, 2048]              96\n",
      "           Conv1d-38             [-1, 32, 2048]           1,024\n",
      "DepthwiseSeparableConv1d-39             [-1, 32, 2048]               0\n",
      "      BatchNorm1d-40             [-1, 32, 2048]              64\n",
      "           Conv1d-41            [-1, 128, 2048]           4,096\n",
      "      BatchNorm1d-42            [-1, 128, 2048]             256\n",
      "AdaptiveAvgPool1d-43               [-1, 128, 1]               0\n",
      "           Linear-44                    [-1, 8]           1,024\n",
      "             ReLU-45                    [-1, 8]               0\n",
      "           Linear-46                  [-1, 128]           1,024\n",
      "          Sigmoid-47                  [-1, 128]               0\n",
      "          SEBlock-48            [-1, 128, 2048]               0\n",
      "     Bottleneck1D-49            [-1, 128, 2048]               0\n",
      "           Conv1d-50             [-1, 32, 2048]           4,096\n",
      "      BatchNorm1d-51             [-1, 32, 2048]              64\n",
      "           Conv1d-52             [-1, 32, 2048]              96\n",
      "           Conv1d-53             [-1, 32, 2048]           1,024\n",
      "DepthwiseSeparableConv1d-54             [-1, 32, 2048]               0\n",
      "      BatchNorm1d-55             [-1, 32, 2048]              64\n",
      "           Conv1d-56            [-1, 128, 2048]           4,096\n",
      "      BatchNorm1d-57            [-1, 128, 2048]             256\n",
      "AdaptiveAvgPool1d-58               [-1, 128, 1]               0\n",
      "           Linear-59                    [-1, 8]           1,024\n",
      "             ReLU-60                    [-1, 8]               0\n",
      "           Linear-61                  [-1, 128]           1,024\n",
      "          Sigmoid-62                  [-1, 128]               0\n",
      "          SEBlock-63            [-1, 128, 2048]               0\n",
      "     Bottleneck1D-64            [-1, 128, 2048]               0\n",
      "           Conv1d-65             [-1, 64, 2048]           8,192\n",
      "      BatchNorm1d-66             [-1, 64, 2048]             128\n",
      "           Conv1d-67             [-1, 64, 1024]             192\n",
      "           Conv1d-68             [-1, 64, 1024]           4,096\n",
      "DepthwiseSeparableConv1d-69             [-1, 64, 1024]               0\n",
      "      BatchNorm1d-70             [-1, 64, 1024]             128\n",
      "           Conv1d-71            [-1, 256, 1024]          16,384\n",
      "      BatchNorm1d-72            [-1, 256, 1024]             512\n",
      "AdaptiveAvgPool1d-73               [-1, 256, 1]               0\n",
      "           Linear-74                   [-1, 16]           4,096\n",
      "             ReLU-75                   [-1, 16]               0\n",
      "           Linear-76                  [-1, 256]           4,096\n",
      "          Sigmoid-77                  [-1, 256]               0\n",
      "          SEBlock-78            [-1, 256, 1024]               0\n",
      "           Conv1d-79            [-1, 256, 1024]          32,768\n",
      "      BatchNorm1d-80            [-1, 256, 1024]             512\n",
      "     Bottleneck1D-81            [-1, 256, 1024]               0\n",
      "           Conv1d-82             [-1, 64, 1024]          16,384\n",
      "      BatchNorm1d-83             [-1, 64, 1024]             128\n",
      "           Conv1d-84             [-1, 64, 1024]             192\n",
      "           Conv1d-85             [-1, 64, 1024]           4,096\n",
      "DepthwiseSeparableConv1d-86             [-1, 64, 1024]               0\n",
      "      BatchNorm1d-87             [-1, 64, 1024]             128\n",
      "           Conv1d-88            [-1, 256, 1024]          16,384\n",
      "      BatchNorm1d-89            [-1, 256, 1024]             512\n",
      "AdaptiveAvgPool1d-90               [-1, 256, 1]               0\n",
      "           Linear-91                   [-1, 16]           4,096\n",
      "             ReLU-92                   [-1, 16]               0\n",
      "           Linear-93                  [-1, 256]           4,096\n",
      "          Sigmoid-94                  [-1, 256]               0\n",
      "          SEBlock-95            [-1, 256, 1024]               0\n",
      "     Bottleneck1D-96            [-1, 256, 1024]               0\n",
      "           Conv1d-97             [-1, 64, 1024]          16,384\n",
      "      BatchNorm1d-98             [-1, 64, 1024]             128\n",
      "           Conv1d-99             [-1, 64, 1024]             192\n",
      "          Conv1d-100             [-1, 64, 1024]           4,096\n",
      "DepthwiseSeparableConv1d-101             [-1, 64, 1024]               0\n",
      "     BatchNorm1d-102             [-1, 64, 1024]             128\n",
      "          Conv1d-103            [-1, 256, 1024]          16,384\n",
      "     BatchNorm1d-104            [-1, 256, 1024]             512\n",
      "AdaptiveAvgPool1d-105               [-1, 256, 1]               0\n",
      "          Linear-106                   [-1, 16]           4,096\n",
      "            ReLU-107                   [-1, 16]               0\n",
      "          Linear-108                  [-1, 256]           4,096\n",
      "         Sigmoid-109                  [-1, 256]               0\n",
      "         SEBlock-110            [-1, 256, 1024]               0\n",
      "    Bottleneck1D-111            [-1, 256, 1024]               0\n",
      "          Conv1d-112             [-1, 64, 1024]          16,384\n",
      "     BatchNorm1d-113             [-1, 64, 1024]             128\n",
      "          Conv1d-114             [-1, 64, 1024]             192\n",
      "          Conv1d-115             [-1, 64, 1024]           4,096\n",
      "DepthwiseSeparableConv1d-116             [-1, 64, 1024]               0\n",
      "     BatchNorm1d-117             [-1, 64, 1024]             128\n",
      "          Conv1d-118            [-1, 256, 1024]          16,384\n",
      "     BatchNorm1d-119            [-1, 256, 1024]             512\n",
      "AdaptiveAvgPool1d-120               [-1, 256, 1]               0\n",
      "          Linear-121                   [-1, 16]           4,096\n",
      "            ReLU-122                   [-1, 16]               0\n",
      "          Linear-123                  [-1, 256]           4,096\n",
      "         Sigmoid-124                  [-1, 256]               0\n",
      "         SEBlock-125            [-1, 256, 1024]               0\n",
      "    Bottleneck1D-126            [-1, 256, 1024]               0\n",
      "          Conv1d-127             [-1, 64, 1024]          16,384\n",
      "     BatchNorm1d-128             [-1, 64, 1024]             128\n",
      "          Conv1d-129             [-1, 64, 1024]             192\n",
      "          Conv1d-130             [-1, 64, 1024]           4,096\n",
      "DepthwiseSeparableConv1d-131             [-1, 64, 1024]               0\n",
      "     BatchNorm1d-132             [-1, 64, 1024]             128\n",
      "          Conv1d-133            [-1, 256, 1024]          16,384\n",
      "     BatchNorm1d-134            [-1, 256, 1024]             512\n",
      "AdaptiveAvgPool1d-135               [-1, 256, 1]               0\n",
      "          Linear-136                   [-1, 16]           4,096\n",
      "            ReLU-137                   [-1, 16]               0\n",
      "          Linear-138                  [-1, 256]           4,096\n",
      "         Sigmoid-139                  [-1, 256]               0\n",
      "         SEBlock-140            [-1, 256, 1024]               0\n",
      "    Bottleneck1D-141            [-1, 256, 1024]               0\n",
      "          Conv1d-142            [-1, 128, 1024]          32,768\n",
      "     BatchNorm1d-143            [-1, 128, 1024]             256\n",
      "          Conv1d-144             [-1, 128, 512]             384\n",
      "          Conv1d-145             [-1, 128, 512]          16,384\n",
      "DepthwiseSeparableConv1d-146             [-1, 128, 512]               0\n",
      "     BatchNorm1d-147             [-1, 128, 512]             256\n",
      "          Conv1d-148             [-1, 512, 512]          65,536\n",
      "     BatchNorm1d-149             [-1, 512, 512]           1,024\n",
      "AdaptiveAvgPool1d-150               [-1, 512, 1]               0\n",
      "          Linear-151                   [-1, 32]          16,384\n",
      "            ReLU-152                   [-1, 32]               0\n",
      "          Linear-153                  [-1, 512]          16,384\n",
      "         Sigmoid-154                  [-1, 512]               0\n",
      "         SEBlock-155             [-1, 512, 512]               0\n",
      "          Conv1d-156             [-1, 512, 512]         131,072\n",
      "     BatchNorm1d-157             [-1, 512, 512]           1,024\n",
      "    Bottleneck1D-158             [-1, 512, 512]               0\n",
      "          Conv1d-159             [-1, 128, 512]          65,536\n",
      "     BatchNorm1d-160             [-1, 128, 512]             256\n",
      "          Conv1d-161             [-1, 128, 512]             384\n",
      "          Conv1d-162             [-1, 128, 512]          16,384\n",
      "DepthwiseSeparableConv1d-163             [-1, 128, 512]               0\n",
      "     BatchNorm1d-164             [-1, 128, 512]             256\n",
      "          Conv1d-165             [-1, 512, 512]          65,536\n",
      "     BatchNorm1d-166             [-1, 512, 512]           1,024\n",
      "AdaptiveAvgPool1d-167               [-1, 512, 1]               0\n",
      "          Linear-168                   [-1, 32]          16,384\n",
      "            ReLU-169                   [-1, 32]               0\n",
      "          Linear-170                  [-1, 512]          16,384\n",
      "         Sigmoid-171                  [-1, 512]               0\n",
      "         SEBlock-172             [-1, 512, 512]               0\n",
      "    Bottleneck1D-173             [-1, 512, 512]               0\n",
      "          Conv1d-174             [-1, 128, 512]          65,536\n",
      "     BatchNorm1d-175             [-1, 128, 512]             256\n",
      "          Conv1d-176             [-1, 128, 512]             384\n",
      "          Conv1d-177             [-1, 128, 512]          16,384\n",
      "DepthwiseSeparableConv1d-178             [-1, 128, 512]               0\n",
      "     BatchNorm1d-179             [-1, 128, 512]             256\n",
      "          Conv1d-180             [-1, 512, 512]          65,536\n",
      "     BatchNorm1d-181             [-1, 512, 512]           1,024\n",
      "AdaptiveAvgPool1d-182               [-1, 512, 1]               0\n",
      "          Linear-183                   [-1, 32]          16,384\n",
      "            ReLU-184                   [-1, 32]               0\n",
      "          Linear-185                  [-1, 512]          16,384\n",
      "         Sigmoid-186                  [-1, 512]               0\n",
      "         SEBlock-187             [-1, 512, 512]               0\n",
      "    Bottleneck1D-188             [-1, 512, 512]               0\n",
      "          Conv1d-189             [-1, 128, 512]          65,536\n",
      "     BatchNorm1d-190             [-1, 128, 512]             256\n",
      "          Conv1d-191             [-1, 128, 512]             384\n",
      "          Conv1d-192             [-1, 128, 512]          16,384\n",
      "DepthwiseSeparableConv1d-193             [-1, 128, 512]               0\n",
      "     BatchNorm1d-194             [-1, 128, 512]             256\n",
      "          Conv1d-195             [-1, 512, 512]          65,536\n",
      "     BatchNorm1d-196             [-1, 512, 512]           1,024\n",
      "AdaptiveAvgPool1d-197               [-1, 512, 1]               0\n",
      "          Linear-198                   [-1, 32]          16,384\n",
      "            ReLU-199                   [-1, 32]               0\n",
      "          Linear-200                  [-1, 512]          16,384\n",
      "         Sigmoid-201                  [-1, 512]               0\n",
      "         SEBlock-202             [-1, 512, 512]               0\n",
      "    Bottleneck1D-203             [-1, 512, 512]               0\n",
      "          Conv1d-204             [-1, 128, 512]          65,536\n",
      "     BatchNorm1d-205             [-1, 128, 512]             256\n",
      "          Conv1d-206             [-1, 128, 512]             384\n",
      "          Conv1d-207             [-1, 128, 512]          16,384\n",
      "DepthwiseSeparableConv1d-208             [-1, 128, 512]               0\n",
      "     BatchNorm1d-209             [-1, 128, 512]             256\n",
      "          Conv1d-210             [-1, 512, 512]          65,536\n",
      "     BatchNorm1d-211             [-1, 512, 512]           1,024\n",
      "AdaptiveAvgPool1d-212               [-1, 512, 1]               0\n",
      "          Linear-213                   [-1, 32]          16,384\n",
      "            ReLU-214                   [-1, 32]               0\n",
      "          Linear-215                  [-1, 512]          16,384\n",
      "         Sigmoid-216                  [-1, 512]               0\n",
      "         SEBlock-217             [-1, 512, 512]               0\n",
      "    Bottleneck1D-218             [-1, 512, 512]               0\n",
      "          Conv1d-219             [-1, 256, 512]         131,072\n",
      "     BatchNorm1d-220             [-1, 256, 512]             512\n",
      "          Conv1d-221             [-1, 256, 256]             768\n",
      "          Conv1d-222             [-1, 256, 256]          65,536\n",
      "DepthwiseSeparableConv1d-223             [-1, 256, 256]               0\n",
      "     BatchNorm1d-224             [-1, 256, 256]             512\n",
      "          Conv1d-225            [-1, 1024, 256]         262,144\n",
      "     BatchNorm1d-226            [-1, 1024, 256]           2,048\n",
      "AdaptiveAvgPool1d-227              [-1, 1024, 1]               0\n",
      "          Linear-228                   [-1, 64]          65,536\n",
      "            ReLU-229                   [-1, 64]               0\n",
      "          Linear-230                 [-1, 1024]          65,536\n",
      "         Sigmoid-231                 [-1, 1024]               0\n",
      "         SEBlock-232            [-1, 1024, 256]               0\n",
      "          Conv1d-233            [-1, 1024, 256]         524,288\n",
      "     BatchNorm1d-234            [-1, 1024, 256]           2,048\n",
      "    Bottleneck1D-235            [-1, 1024, 256]               0\n",
      "          Conv1d-236             [-1, 256, 256]         262,144\n",
      "     BatchNorm1d-237             [-1, 256, 256]             512\n",
      "          Conv1d-238             [-1, 256, 256]             768\n",
      "          Conv1d-239             [-1, 256, 256]          65,536\n",
      "DepthwiseSeparableConv1d-240             [-1, 256, 256]               0\n",
      "     BatchNorm1d-241             [-1, 256, 256]             512\n",
      "          Conv1d-242            [-1, 1024, 256]         262,144\n",
      "     BatchNorm1d-243            [-1, 1024, 256]           2,048\n",
      "AdaptiveAvgPool1d-244              [-1, 1024, 1]               0\n",
      "          Linear-245                   [-1, 64]          65,536\n",
      "            ReLU-246                   [-1, 64]               0\n",
      "          Linear-247                 [-1, 1024]          65,536\n",
      "         Sigmoid-248                 [-1, 1024]               0\n",
      "         SEBlock-249            [-1, 1024, 256]               0\n",
      "    Bottleneck1D-250            [-1, 1024, 256]               0\n",
      "          Conv1d-251             [-1, 256, 256]         262,144\n",
      "     BatchNorm1d-252             [-1, 256, 256]             512\n",
      "          Conv1d-253             [-1, 256, 256]             768\n",
      "          Conv1d-254             [-1, 256, 256]          65,536\n",
      "DepthwiseSeparableConv1d-255             [-1, 256, 256]               0\n",
      "     BatchNorm1d-256             [-1, 256, 256]             512\n",
      "          Conv1d-257            [-1, 1024, 256]         262,144\n",
      "     BatchNorm1d-258            [-1, 1024, 256]           2,048\n",
      "AdaptiveAvgPool1d-259              [-1, 1024, 1]               0\n",
      "          Linear-260                   [-1, 64]          65,536\n",
      "            ReLU-261                   [-1, 64]               0\n",
      "          Linear-262                 [-1, 1024]          65,536\n",
      "         Sigmoid-263                 [-1, 1024]               0\n",
      "         SEBlock-264            [-1, 1024, 256]               0\n",
      "    Bottleneck1D-265            [-1, 1024, 256]               0\n",
      "          Conv1d-266             [-1, 256, 256]         262,144\n",
      "     BatchNorm1d-267             [-1, 256, 256]             512\n",
      "          Conv1d-268             [-1, 256, 256]             768\n",
      "          Conv1d-269             [-1, 256, 256]          65,536\n",
      "DepthwiseSeparableConv1d-270             [-1, 256, 256]               0\n",
      "     BatchNorm1d-271             [-1, 256, 256]             512\n",
      "          Conv1d-272            [-1, 1024, 256]         262,144\n",
      "     BatchNorm1d-273            [-1, 1024, 256]           2,048\n",
      "AdaptiveAvgPool1d-274              [-1, 1024, 1]               0\n",
      "          Linear-275                   [-1, 64]          65,536\n",
      "            ReLU-276                   [-1, 64]               0\n",
      "          Linear-277                 [-1, 1024]          65,536\n",
      "         Sigmoid-278                 [-1, 1024]               0\n",
      "         SEBlock-279            [-1, 1024, 256]               0\n",
      "    Bottleneck1D-280            [-1, 1024, 256]               0\n",
      "          Linear-281                    [-1, 8]           8,200\n",
      "================================================================\n",
      "Total params: 4,616,392\n",
      "Trainable params: 4,616,392\n",
      "Non-trainable params: 0\n",
      "----------------------------------------------------------------\n",
      "Input size (MB): 0.03\n",
      "Forward/backward pass size (MB): 218.20\n",
      "Params size (MB): 17.61\n",
      "Estimated Total Size (MB): 235.84\n",
      "----------------------------------------------------------------\n"
     ]
    }
   ],
   "source": [
    "\n",
    "\n",
    "# Set up the loss function and optimizer\n",
    "criterion = nn.CrossEntropyLoss()\n",
    "optimizer = optim.Adam(model.parameters(), lr=0.001)\n",
    "\n",
    "# Number of epochs for training\n",
    "num_epochs = 20\n",
    "\n",
    "# Assuming you have a ModelTrainer class defined that can handle the training process\n",
    "trainer = ModelTrainer(model, train_dataloader, val_dataloader, criterion, optimizer, device)\n",
    "\n",
    "summary(model, input_size=input_size, device=str(device))\n"
   ]
  },
  {
   "cell_type": "code",
   "execution_count": 8,
   "id": "b1defdc0",
   "metadata": {},
   "outputs": [
    {
     "name": "stdout",
     "output_type": "stream",
     "text": [
      "Epoch 1/20\n"
     ]
    },
    {
     "name": "stderr",
     "output_type": "stream",
     "text": [
      "Training: 100%|██████████| 5906/5906 [23:13<00:00,  4.24it/s, loss=1.9434, accuracy=19.25%]\n",
      "                                                                                                     \r"
     ]
    },
    {
     "name": "stdout",
     "output_type": "stream",
     "text": [
      "Epoch 1: Train Loss 1.9434, Acc 19.25%, Val Loss 1.8409, Val Acc 23.22%\n",
      "Epoch 2/20\n"
     ]
    },
    {
     "name": "stderr",
     "output_type": "stream",
     "text": [
      "Training: 100%|██████████| 5906/5906 [23:15<00:00,  4.23it/s, loss=1.6957, accuracy=29.43%]\n",
      "                                                                                                     \r"
     ]
    },
    {
     "name": "stdout",
     "output_type": "stream",
     "text": [
      "Epoch 2: Train Loss 1.6957, Acc 29.43%, Val Loss 1.6222, Val Acc 31.99%\n",
      "Epoch 3/20\n"
     ]
    },
    {
     "name": "stderr",
     "output_type": "stream",
     "text": [
      "Training: 100%|██████████| 5906/5906 [23:15<00:00,  4.23it/s, loss=1.6095, accuracy=32.81%]\n",
      "                                                                                                     \r"
     ]
    },
    {
     "name": "stdout",
     "output_type": "stream",
     "text": [
      "Epoch 3: Train Loss 1.6095, Acc 32.81%, Val Loss 1.5752, Val Acc 34.04%\n",
      "Epoch 4/20\n"
     ]
    },
    {
     "name": "stderr",
     "output_type": "stream",
     "text": [
      "Training: 100%|██████████| 5906/5906 [23:16<00:00,  4.23it/s, loss=1.5660, accuracy=34.35%]\n",
      "                                                                                                     \r"
     ]
    },
    {
     "name": "stdout",
     "output_type": "stream",
     "text": [
      "Epoch 4: Train Loss 1.5660, Acc 34.35%, Val Loss 1.5522, Val Acc 34.67%\n",
      "Epoch 5/20\n"
     ]
    },
    {
     "name": "stderr",
     "output_type": "stream",
     "text": [
      "Training: 100%|██████████| 5906/5906 [23:15<00:00,  4.23it/s, loss=1.5375, accuracy=35.54%]\n",
      "                                                                                                     \r"
     ]
    },
    {
     "name": "stdout",
     "output_type": "stream",
     "text": [
      "Epoch 5: Train Loss 1.5375, Acc 35.54%, Val Loss 1.5223, Val Acc 36.20%\n",
      "Epoch 6/20\n"
     ]
    },
    {
     "name": "stderr",
     "output_type": "stream",
     "text": [
      "Training: 100%|██████████| 5906/5906 [23:15<00:00,  4.23it/s, loss=1.5157, accuracy=36.29%]\n",
      "                                                                                                     \r"
     ]
    },
    {
     "name": "stdout",
     "output_type": "stream",
     "text": [
      "Epoch 6: Train Loss 1.5157, Acc 36.29%, Val Loss 1.5197, Val Acc 36.40%\n",
      "Epoch 7/20\n"
     ]
    },
    {
     "name": "stderr",
     "output_type": "stream",
     "text": [
      "Training: 100%|██████████| 5906/5906 [23:15<00:00,  4.23it/s, loss=1.4947, accuracy=37.19%]\n",
      "                                                                                                     \r"
     ]
    },
    {
     "name": "stdout",
     "output_type": "stream",
     "text": [
      "Epoch 7: Train Loss 1.4947, Acc 37.19%, Val Loss 1.4947, Val Acc 37.30%\n",
      "Epoch 8/20\n"
     ]
    },
    {
     "name": "stderr",
     "output_type": "stream",
     "text": [
      "Training: 100%|██████████| 5906/5906 [23:16<00:00,  4.23it/s, loss=1.4793, accuracy=37.87%]\n",
      "                                                                                                     \r"
     ]
    },
    {
     "name": "stdout",
     "output_type": "stream",
     "text": [
      "Epoch 8: Train Loss 1.4793, Acc 37.87%, Val Loss 1.4623, Val Acc 38.42%\n",
      "Epoch 9/20\n"
     ]
    },
    {
     "name": "stderr",
     "output_type": "stream",
     "text": [
      "Training: 100%|██████████| 5906/5906 [23:15<00:00,  4.23it/s, loss=1.4656, accuracy=38.38%]\n",
      "                                                                                                     \r"
     ]
    },
    {
     "name": "stdout",
     "output_type": "stream",
     "text": [
      "Epoch 9: Train Loss 1.4656, Acc 38.38%, Val Loss 1.4836, Val Acc 37.67%\n",
      "Epoch 10/20\n"
     ]
    },
    {
     "name": "stderr",
     "output_type": "stream",
     "text": [
      "Training: 100%|██████████| 5906/5906 [23:16<00:00,  4.23it/s, loss=1.4552, accuracy=38.72%]\n",
      "                                                                                                     \r"
     ]
    },
    {
     "name": "stdout",
     "output_type": "stream",
     "text": [
      "Epoch 10: Train Loss 1.4552, Acc 38.72%, Val Loss 1.4355, Val Acc 39.49%\n",
      "Epoch 11/20\n"
     ]
    },
    {
     "name": "stderr",
     "output_type": "stream",
     "text": [
      "Training: 100%|██████████| 5906/5906 [23:15<00:00,  4.23it/s, loss=1.4438, accuracy=39.22%]\n",
      "                                                                                                     \r"
     ]
    },
    {
     "name": "stdout",
     "output_type": "stream",
     "text": [
      "Epoch 11: Train Loss 1.4438, Acc 39.22%, Val Loss 1.4485, Val Acc 39.05%\n",
      "Epoch 12/20\n"
     ]
    },
    {
     "name": "stderr",
     "output_type": "stream",
     "text": [
      "Training: 100%|██████████| 5906/5906 [23:16<00:00,  4.23it/s, loss=1.4365, accuracy=39.47%]\n",
      "                                                                                                     \r"
     ]
    },
    {
     "name": "stdout",
     "output_type": "stream",
     "text": [
      "Epoch 12: Train Loss 1.4365, Acc 39.47%, Val Loss 1.4470, Val Acc 39.33%\n",
      "Epoch 13/20\n"
     ]
    },
    {
     "name": "stderr",
     "output_type": "stream",
     "text": [
      "Training: 100%|██████████| 5906/5906 [23:15<00:00,  4.23it/s, loss=1.4280, accuracy=39.83%]\n",
      "                                                                                                     \r"
     ]
    },
    {
     "name": "stdout",
     "output_type": "stream",
     "text": [
      "Epoch 13: Train Loss 1.4280, Acc 39.83%, Val Loss 1.4261, Val Acc 39.75%\n",
      "Epoch 14/20\n"
     ]
    },
    {
     "name": "stderr",
     "output_type": "stream",
     "text": [
      "Training: 100%|██████████| 5906/5906 [23:16<00:00,  4.23it/s, loss=1.4210, accuracy=40.18%]\n",
      "                                                                                                     \r"
     ]
    },
    {
     "name": "stdout",
     "output_type": "stream",
     "text": [
      "Epoch 14: Train Loss 1.4210, Acc 40.18%, Val Loss 1.4182, Val Acc 40.46%\n",
      "Epoch 15/20\n"
     ]
    },
    {
     "name": "stderr",
     "output_type": "stream",
     "text": [
      "Training: 100%|██████████| 5906/5906 [23:16<00:00,  4.23it/s, loss=1.4148, accuracy=40.31%]\n",
      "                                                                                                     \r"
     ]
    },
    {
     "name": "stdout",
     "output_type": "stream",
     "text": [
      "Epoch 15: Train Loss 1.4148, Acc 40.31%, Val Loss 1.4137, Val Acc 40.32%\n",
      "Epoch 16/20\n"
     ]
    },
    {
     "name": "stderr",
     "output_type": "stream",
     "text": [
      "Training: 100%|██████████| 5906/5906 [23:16<00:00,  4.23it/s, loss=1.4086, accuracy=40.65%]\n",
      "                                                                                                     \r"
     ]
    },
    {
     "name": "stdout",
     "output_type": "stream",
     "text": [
      "Epoch 16: Train Loss 1.4086, Acc 40.65%, Val Loss 1.3999, Val Acc 41.04%\n",
      "Epoch 17/20\n"
     ]
    },
    {
     "name": "stderr",
     "output_type": "stream",
     "text": [
      "Training: 100%|██████████| 5906/5906 [23:15<00:00,  4.23it/s, loss=1.4033, accuracy=40.79%]\n",
      "                                                                                                     \r"
     ]
    },
    {
     "name": "stdout",
     "output_type": "stream",
     "text": [
      "Epoch 17: Train Loss 1.4033, Acc 40.79%, Val Loss 1.4123, Val Acc 40.39%\n",
      "Epoch 18/20\n"
     ]
    },
    {
     "name": "stderr",
     "output_type": "stream",
     "text": [
      "Training: 100%|██████████| 5906/5906 [23:16<00:00,  4.23it/s, loss=1.3983, accuracy=41.08%]\n",
      "                                                                                                     \r"
     ]
    },
    {
     "name": "stdout",
     "output_type": "stream",
     "text": [
      "Epoch 18: Train Loss 1.3983, Acc 41.08%, Val Loss 1.4079, Val Acc 40.67%\n",
      "Epoch 19/20\n"
     ]
    },
    {
     "name": "stderr",
     "output_type": "stream",
     "text": [
      "Training: 100%|██████████| 5906/5906 [23:15<00:00,  4.23it/s, loss=1.3926, accuracy=41.20%]\n",
      "                                                                                                     \r"
     ]
    },
    {
     "name": "stdout",
     "output_type": "stream",
     "text": [
      "Epoch 19: Train Loss 1.3926, Acc 41.20%, Val Loss 1.4034, Val Acc 40.79%\n",
      "Epoch 20/20\n"
     ]
    },
    {
     "name": "stderr",
     "output_type": "stream",
     "text": [
      "Training: 100%|██████████| 5906/5906 [23:16<00:00,  4.23it/s, loss=1.3880, accuracy=41.45%]\n",
      "                                                                                                     \r"
     ]
    },
    {
     "name": "stdout",
     "output_type": "stream",
     "text": [
      "Epoch 20: Train Loss 1.3880, Acc 41.45%, Val Loss 1.3942, Val Acc 41.26%\n",
      "Loaded best model from best_model_checkpoint.pth\n"
     ]
    }
   ],
   "source": [
    "trainer.run_training_loop(num_epochs)"
   ]
  },
  {
   "cell_type": "code",
   "execution_count": 9,
   "id": "2abc2aff",
   "metadata": {},
   "outputs": [
    {
     "name": "stdout",
     "output_type": "stream",
     "text": [
      "Epoch 1/10\n"
     ]
    },
    {
     "name": "stderr",
     "output_type": "stream",
     "text": [
      "Training: 100%|██████████| 5906/5906 [23:16<00:00,  4.23it/s, loss=1.3834, accuracy=41.65%]\n",
      "                                                                                                     \r"
     ]
    },
    {
     "name": "stdout",
     "output_type": "stream",
     "text": [
      "Epoch 1: Train Loss 1.3834, Acc 41.65%, Val Loss 1.3921, Val Acc 41.03%\n",
      "Epoch 2/10\n"
     ]
    },
    {
     "name": "stderr",
     "output_type": "stream",
     "text": [
      "Training: 100%|██████████| 5906/5906 [23:16<00:00,  4.23it/s, loss=1.3801, accuracy=41.87%]\n",
      "                                                                                                     \r"
     ]
    },
    {
     "name": "stdout",
     "output_type": "stream",
     "text": [
      "Epoch 2: Train Loss 1.3801, Acc 41.87%, Val Loss 1.4024, Val Acc 40.95%\n",
      "Epoch 3/10\n"
     ]
    },
    {
     "name": "stderr",
     "output_type": "stream",
     "text": [
      "Training: 100%|██████████| 5906/5906 [23:15<00:00,  4.23it/s, loss=1.3749, accuracy=42.10%]\n",
      "                                                                                                     \r"
     ]
    },
    {
     "name": "stdout",
     "output_type": "stream",
     "text": [
      "Epoch 3: Train Loss 1.3749, Acc 42.10%, Val Loss 1.3901, Val Acc 41.26%\n",
      "Epoch 4/10\n"
     ]
    },
    {
     "name": "stderr",
     "output_type": "stream",
     "text": [
      "Training: 100%|██████████| 5906/5906 [23:16<00:00,  4.23it/s, loss=1.3705, accuracy=42.27%]\n",
      "                                                                                                     \r"
     ]
    },
    {
     "name": "stdout",
     "output_type": "stream",
     "text": [
      "Epoch 4: Train Loss 1.3705, Acc 42.27%, Val Loss 1.3878, Val Acc 41.49%\n",
      "Epoch 5/10\n"
     ]
    },
    {
     "name": "stderr",
     "output_type": "stream",
     "text": [
      "Training: 100%|██████████| 5906/5906 [23:16<00:00,  4.23it/s, loss=1.3680, accuracy=42.35%]\n",
      "                                                                                                     \r"
     ]
    },
    {
     "name": "stdout",
     "output_type": "stream",
     "text": [
      "Epoch 5: Train Loss 1.3680, Acc 42.35%, Val Loss 1.3919, Val Acc 41.04%\n",
      "Epoch 6/10\n"
     ]
    },
    {
     "name": "stderr",
     "output_type": "stream",
     "text": [
      "Training: 100%|██████████| 5906/5906 [23:16<00:00,  4.23it/s, loss=1.3631, accuracy=42.55%]\n",
      "                                                                                                     \r"
     ]
    },
    {
     "name": "stdout",
     "output_type": "stream",
     "text": [
      "Epoch 6: Train Loss 1.3631, Acc 42.55%, Val Loss 1.3987, Val Acc 41.13%\n",
      "Epoch 7/10\n"
     ]
    },
    {
     "name": "stderr",
     "output_type": "stream",
     "text": [
      "Training: 100%|██████████| 5906/5906 [23:16<00:00,  4.23it/s, loss=1.3594, accuracy=42.76%]\n",
      "                                                                                                     \r"
     ]
    },
    {
     "name": "stdout",
     "output_type": "stream",
     "text": [
      "Epoch 7: Train Loss 1.3594, Acc 42.76%, Val Loss 1.3866, Val Acc 41.80%\n",
      "Epoch 8/10\n"
     ]
    },
    {
     "name": "stderr",
     "output_type": "stream",
     "text": [
      "Training: 100%|██████████| 5906/5906 [23:17<00:00,  4.23it/s, loss=1.3546, accuracy=42.92%]\n",
      "                                                                                                     \r"
     ]
    },
    {
     "name": "stdout",
     "output_type": "stream",
     "text": [
      "Epoch 8: Train Loss 1.3546, Acc 42.92%, Val Loss 1.3812, Val Acc 41.51%\n",
      "Epoch 9/10\n"
     ]
    },
    {
     "name": "stderr",
     "output_type": "stream",
     "text": [
      "Training: 100%|██████████| 5906/5906 [23:16<00:00,  4.23it/s, loss=1.3504, accuracy=43.14%]\n",
      "                                                                                                     \r"
     ]
    },
    {
     "name": "stdout",
     "output_type": "stream",
     "text": [
      "Epoch 9: Train Loss 1.3504, Acc 43.14%, Val Loss 1.3851, Val Acc 41.56%\n",
      "Epoch 10/10\n"
     ]
    },
    {
     "name": "stderr",
     "output_type": "stream",
     "text": [
      "Training: 100%|██████████| 5906/5906 [23:17<00:00,  4.23it/s, loss=1.3477, accuracy=43.29%]\n",
      "                                                                                                     \r"
     ]
    },
    {
     "name": "stdout",
     "output_type": "stream",
     "text": [
      "Epoch 10: Train Loss 1.3477, Acc 43.29%, Val Loss 1.3732, Val Acc 42.16%\n",
      "Loaded best model from best_model_checkpoint.pth\n"
     ]
    }
   ],
   "source": [
    "trainer.run_training_loop(10)"
   ]
  },
  {
   "cell_type": "code",
   "execution_count": 10,
   "id": "f692b516",
   "metadata": {},
   "outputs": [
    {
     "name": "stdout",
     "output_type": "stream",
     "text": [
      "Epoch 1/10\n"
     ]
    },
    {
     "name": "stderr",
     "output_type": "stream",
     "text": [
      "Training: 100%|██████████| 5906/5906 [23:17<00:00,  4.23it/s, loss=1.3434, accuracy=43.54%]\n",
      "                                                                                                     \r"
     ]
    },
    {
     "name": "stdout",
     "output_type": "stream",
     "text": [
      "Epoch 1: Train Loss 1.3434, Acc 43.54%, Val Loss 1.3903, Val Acc 41.36%\n",
      "Epoch 2/10\n"
     ]
    },
    {
     "name": "stderr",
     "output_type": "stream",
     "text": [
      "Training: 100%|██████████| 5906/5906 [23:17<00:00,  4.23it/s, loss=1.3406, accuracy=43.68%]\n",
      "                                                                                                     \r"
     ]
    },
    {
     "name": "stdout",
     "output_type": "stream",
     "text": [
      "Epoch 2: Train Loss 1.3406, Acc 43.68%, Val Loss 1.3700, Val Acc 42.10%\n",
      "Epoch 3/10\n"
     ]
    },
    {
     "name": "stderr",
     "output_type": "stream",
     "text": [
      "Training: 100%|██████████| 5906/5906 [23:17<00:00,  4.22it/s, loss=1.3359, accuracy=43.87%]\n",
      "                                                                                                     \r"
     ]
    },
    {
     "name": "stdout",
     "output_type": "stream",
     "text": [
      "Epoch 3: Train Loss 1.3359, Acc 43.87%, Val Loss 1.3853, Val Acc 41.82%\n",
      "Epoch 4/10\n"
     ]
    },
    {
     "name": "stderr",
     "output_type": "stream",
     "text": [
      "Training: 100%|██████████| 5906/5906 [23:18<00:00,  4.22it/s, loss=1.3316, accuracy=44.09%]\n",
      "                                                                                                     \r"
     ]
    },
    {
     "name": "stdout",
     "output_type": "stream",
     "text": [
      "Epoch 4: Train Loss 1.3316, Acc 44.09%, Val Loss 1.3736, Val Acc 42.46%\n",
      "Epoch 5/10\n"
     ]
    },
    {
     "name": "stderr",
     "output_type": "stream",
     "text": [
      "Training: 100%|██████████| 5906/5906 [23:18<00:00,  4.22it/s, loss=1.3288, accuracy=44.19%]\n",
      "                                                                                                     \r"
     ]
    },
    {
     "name": "stdout",
     "output_type": "stream",
     "text": [
      "Epoch 5: Train Loss 1.3288, Acc 44.19%, Val Loss 1.3822, Val Acc 41.69%\n",
      "Epoch 6/10\n"
     ]
    },
    {
     "name": "stderr",
     "output_type": "stream",
     "text": [
      "Training: 100%|██████████| 5906/5906 [23:17<00:00,  4.22it/s, loss=1.3238, accuracy=44.43%]\n",
      "                                                                                                     \r"
     ]
    },
    {
     "name": "stdout",
     "output_type": "stream",
     "text": [
      "Epoch 6: Train Loss 1.3238, Acc 44.43%, Val Loss 1.3865, Val Acc 42.21%\n",
      "Epoch 7/10\n"
     ]
    },
    {
     "name": "stderr",
     "output_type": "stream",
     "text": [
      "Training: 100%|██████████| 5906/5906 [23:16<00:00,  4.23it/s, loss=1.3195, accuracy=44.70%]\n",
      "                                                                                                     \r"
     ]
    },
    {
     "name": "stdout",
     "output_type": "stream",
     "text": [
      "Epoch 7: Train Loss 1.3195, Acc 44.70%, Val Loss 1.3798, Val Acc 42.28%\n",
      "Epoch 8/10\n"
     ]
    },
    {
     "name": "stderr",
     "output_type": "stream",
     "text": [
      "Training: 100%|██████████| 5906/5906 [23:17<00:00,  4.23it/s, loss=1.3141, accuracy=44.98%]\n",
      "                                                                                                     \r"
     ]
    },
    {
     "name": "stdout",
     "output_type": "stream",
     "text": [
      "Epoch 8: Train Loss 1.3141, Acc 44.98%, Val Loss 1.3856, Val Acc 41.81%\n",
      "Epoch 9/10\n"
     ]
    },
    {
     "name": "stderr",
     "output_type": "stream",
     "text": [
      "Training: 100%|██████████| 5906/5906 [23:17<00:00,  4.23it/s, loss=1.3089, accuracy=45.25%]\n",
      "                                                                                                     \r"
     ]
    },
    {
     "name": "stdout",
     "output_type": "stream",
     "text": [
      "Epoch 9: Train Loss 1.3089, Acc 45.25%, Val Loss 1.3984, Val Acc 41.43%\n",
      "Stopping early due to no improvement in validation accuracy.\n",
      "Loaded best model from best_model_checkpoint.pth\n"
     ]
    }
   ],
   "source": [
    "trainer.run_training_loop(10)"
   ]
  },
  {
   "cell_type": "code",
   "execution_count": 11,
   "id": "506ec55a",
   "metadata": {},
   "outputs": [
    {
     "name": "stdout",
     "output_type": "stream",
     "text": [
      "Epoch 1/10\n"
     ]
    },
    {
     "name": "stderr",
     "output_type": "stream",
     "text": [
      "Training: 100%|██████████| 5906/5906 [23:17<00:00,  4.23it/s, loss=1.3268, accuracy=44.27%]\n",
      "                                                                                                     \r"
     ]
    },
    {
     "name": "stdout",
     "output_type": "stream",
     "text": [
      "Epoch 1: Train Loss 1.3268, Acc 44.27%, Val Loss 1.3820, Val Acc 41.80%\n",
      "Stopping early due to no improvement in validation accuracy.\n"
     ]
    }
   ],
   "source": [
    "trainer.run_training_loop(10)"
   ]
  },
  {
   "cell_type": "code",
   "execution_count": 13,
   "id": "5c97be07",
   "metadata": {},
   "outputs": [
    {
     "name": "stdout",
     "output_type": "stream",
     "text": [
      "Epoch 1/10\n"
     ]
    },
    {
     "name": "stderr",
     "output_type": "stream",
     "text": [
      "Training: 100%|██████████| 5906/5906 [23:17<00:00,  4.23it/s, loss=1.3227, accuracy=44.57%]\n",
      "                                                                                                     \r"
     ]
    },
    {
     "name": "stdout",
     "output_type": "stream",
     "text": [
      "Epoch 1: Train Loss 1.3227, Acc 44.57%, Val Loss 1.3748, Val Acc 41.63%\n",
      "Stopping early due to no improvement in validation accuracy.\n"
     ]
    }
   ],
   "source": [
    "trainer.run_training_loop(10)"
   ]
  },
  {
   "cell_type": "markdown",
   "id": "9ca9f859-d71b-4c78-95a0-3587c1e4db30",
   "metadata": {
    "tags": []
   },
   "source": [
    "----\n",
    "### Call and Train Model\n",
    "Loading the model structure to be trained"
   ]
  },
  {
   "cell_type": "markdown",
   "id": "491d82bf",
   "metadata": {},
   "source": [
    "----\n",
    "### Evaluation"
   ]
  },
  {
   "cell_type": "code",
   "execution_count": 12,
   "id": "14ce3b48",
   "metadata": {},
   "outputs": [
    {
     "name": "stdout",
     "output_type": "stream",
     "text": [
      "Validation Loss: 1.3820\n",
      "Validation Accuracy: 41.80%\n",
      "Average Inference Time per Batch: 0.0238 seconds\n"
     ]
    },
    {
     "data": {
      "image/png": "[encoded data removed]",
      "text/plain": [
       "<Figure size 2000x1000 with 2 Axes>"
      ]
     },
     "metadata": {},
     "output_type": "display_data"
    },
    {
     "data": {
      "text/plain": [
       "<Figure size 1500x1500 with 0 Axes>"
      ]
     },
     "metadata": {},
     "output_type": "display_data"
    },
    {
     "data": {
      "image/png": "[encoded data removed]",
      "text/plain": [
       "<Figure size 640x480 with 2 Axes>"
      ]
     },
     "metadata": {},
     "output_type": "display_data"
    }
   ],
   "source": [
    "results = evaluate_model(trainer.model, trainer.val_dataloader, trainer.criterion, trainer.device)\n",
    "\n",
    "labels = results['all_labels']\n",
    "predictions = results['all_predictions']\n",
    "plot_metrics(trainer, labels, predictions)\n",
    "\n",
    "plot_conf_matrix( labels, predictions,selected_classes)"
   ]
  },
  {
   "cell_type": "code",
   "execution_count": 14,
   "id": "dfb2619d",
   "metadata": {},
   "outputs": [],
   "source": [
    "torch.save(trainer.model, './models/QAM_im_new_m_418.pth')"
   ]
  },
  {
   "cell_type": "markdown",
   "id": "57661ddc",
   "metadata": {},
   "source": [
    "### Accuracy based on SNR"
   ]
  },
  {
   "cell_type": "code",
   "execution_count": 20,
   "id": "bc5bba87",
   "metadata": {},
   "outputs": [],
   "source": [
    "def get_snr_bin(snr):\n",
    "    if snr <= 5:\n",
    "        return '-2 to 5'\n",
    "    elif 6 <= snr <= 10:\n",
    "        return '6 to 10'\n",
    "    elif 11 <= snr <= 15:\n",
    "        return '11 to 15'\n",
    "    elif 16 <= snr <= 20:\n",
    "        return '16 to 20'\n",
    "    elif 21 <= snr <= 25:\n",
    "        return '21 to 25'\n",
    "    elif 26 <= snr <= 30:\n",
    "        return '26 to 30'\n"
   ]
  },
  {
   "cell_type": "code",
   "execution_count": 21,
   "id": "f4b2dab1",
   "metadata": {},
   "outputs": [],
   "source": [
    "sig53_metadata = Sig53(\n",
    "    root=root,\n",
    "    train=False,\n",
    "    impaired=impaired,\n",
    "    transform=None,\n",
    "    target_transform=None,\n",
    ")"
   ]
  },
  {
   "cell_type": "code",
   "execution_count": 23,
   "id": "a53404ab",
   "metadata": {},
   "outputs": [
    {
     "name": "stdout",
     "output_type": "stream",
     "text": [
      "SNR Bin -2 to 5: Accuracy = 5.00%\n",
      "SNR Bin 6 to 10: Accuracy = 29.17%\n",
      "SNR Bin 11 to 15: Accuracy = 25.00%\n",
      "SNR Bin 16 to 20: Accuracy = 68.75%\n",
      "SNR Bin 21 to 25: Accuracy = 66.67%\n",
      "SNR Bin 26 to 30: Accuracy = 87.50%\n"
     ]
    }
   ],
   "source": [
    "from collections import defaultdict\n",
    "# Evaluation per SNR bin\n",
    "model.eval()\n",
    "model.to(device)\n",
    "snr_bins = defaultdict(lambda: {'correct': 0, 'total': 0})\n",
    "\n",
    "with torch.no_grad():\n",
    "    for batch_idx, (inputs, labels) in enumerate(test_dataloader):\n",
    "        # Get corresponding SNR values from the metadata\n",
    "        start_idx = batch_idx * 16\n",
    "        end_idx = start_idx + 16\n",
    "        snrs = [sig53_metadata[idx][1][1] for idx in range(start_idx, end_idx)]\n",
    "\n",
    "        inputs = inputs.to(device, dtype=torch.float32)\n",
    "        labels = labels.to(device, dtype=torch.long)\n",
    "\n",
    "        outputs = model(inputs)\n",
    "        _, predicted = torch.max(outputs, 1)\n",
    "\n",
    "        for label, pred, snr in zip(labels, predicted, snrs):\n",
    "            bin_name = get_snr_bin(snr)\n",
    "            snr_bins[bin_name]['total'] += 1\n",
    "            if label == pred:\n",
    "                snr_bins[bin_name]['correct'] += 1\n",
    "\n",
    "# Define the bin order\n",
    "bin_order = ['-2 to 5', '6 to 10', '11 to 15', '16 to 20', '21 to 25', '26 to 30']\n",
    "\n",
    "# Calculate and print accuracy per SNR bin in order\n",
    "for bin_name in bin_order:\n",
    "    if bin_name in snr_bins:\n",
    "        stats = snr_bins[bin_name]\n",
    "        accuracy = 100 * stats['correct'] / stats['total']\n",
    "        print(f\"SNR Bin {bin_name}: Accuracy = {accuracy:.2f}%\")\n",
    "    else:\n",
    "        print(f\"SNR Bin {bin_name}: No data available\")\n"
   ]
  },
  {
   "cell_type": "code",
   "execution_count": null,
   "id": "23d2ac6a",
   "metadata": {},
   "outputs": [],
   "source": []
  }
 ],
 "metadata": {
  "kernelspec": {
   "display_name": "Python 3 (ipykernel)",
   "language": "python",
   "name": "python3"
  },
  "language_info": {
   "codemirror_mode": {
    "name": "ipython",
    "version": 3
   },
   "file_extension": ".py",
   "mimetype": "text/x-python",
   "name": "python",
   "nbconvert_exporter": "python",
   "pygments_lexer": "ipython3",
   "version": "3.9.16"
  }
 },
 "nbformat": 4,
 "nbformat_minor": 5
}
